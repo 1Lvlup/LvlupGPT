# Importing necessary libraries and modules
import os
from dotenv import load_dotenv
from openai import OpenAI

# Loading environment variables from .env file
load_dotenv()

# Defining a function to evaluate machine generated responses using LLM
def llm_eval(evaluation: str) -> float:
    # Creating an instance of OpenAI class
    openai_client = OpenAI()
    
    # Preparing the prompt for the LLM model
    answer = openai_client.chat.completions.create(
        model="gpt-4",
        messages=[
            {"role": "system", "content": evaluation},
        ],
    )
    
    # Returning the content of the assistant's response
    return answer.choices[0].message.content


task = "As an agent powered by a large language model, you can execute any digital action. Your task is to find the cheapest flight to San Francisco from Toronto. Create a step by step plan for yourself to execute this task and output this plan into a .txt file."

percentage = "assign a float score that will represent a percentage out of 100. Use decimal points to be even more accurate. 0 represents the worst possible generation, while 100 represents the ideal generation"

scale = "assign an integer score from a scale of 1-10. 1 represents a really bad generation, while 10 represents an ideal generation"


reference_answer = "1. Search 'Toronto to San Francisco flights' on the internet\n2. Click on the first link that is a flight aggregator such as SkyScanner or Google Flights\n3. Select the dates that you want to travel\n3. Click on the 'one way' option and click search\n4. Search through all of the given options and select the cheapest flight"

rubric_answer = "Reasonable: The plan's steps should be arranged in a logical sequence. Each step should naturally follow from the one before it, leading coherently towards the desired outcome.\nAtomic: Each step of the plan should be broken down into the smallest possible units of action. This level of detail allows for better tracking and control, as well as easier troubleshooting and adjustment of the plan if necessary.\nRelevant: Each step should directly contribute to achieving the end goal of the plan. Irrelevant steps can waste resources and detract from the main objectives.\nTimely: The plan should include a realistic timeline for each step, and not include any redundant steps."

question_answer = "Will this plan find the cheapest flight to San Francisco from Toronto consistently?"


FEW_SHOT_REFERENCE_EXAMPLES = "EXAMPLE 1\nPlan: 'Define the Parameters:\n\nIdentify the potential range of dates for the journey. Ensure flexibility to capitalize on the best deals.\nResearch Airlines:\n\nCompile a list of airlines that operate flights between Toronto and San Francisco. This can be accomplished by checking each airline's website or using an airline directory.\nUse Comparison Tools:\n\nUse flight comparison websites (such as Skyscanner, Expedia, Google Flights, etc.) to compare flight prices across different airlines. These tools aggregate flight data and can present the cheapest options available.\nSet Price Alerts:\n\nIf the trip is not immediate, set price alerts on these comparison websites. They will notify you when there is a significant drop in flight prices on the selected route.\nCheck Airlines' Official Websites:\n\nAfter identifying potential flights via comparison tools, visit the airlines' official websites. Sometimes airlines offer deals or discounts on their own websites that are not reflected on comparison sites.\nConsider Nearby Airports:\n\nCheck flight prices to and from airports in the vicinity of both Toronto and San Francisco. Sometimes less busy airports can offer cheaper flights.\nEvaluate Cost Effectiveness:\n\nConsider factors such as baggage fees, meal costs, and transportation to and from the airport when evaluating the total cost of the flight. The cheapest ticket price does not necessarily mean the least expensive journey overall.\nBook the Flight:\n\nOnce the cheapest and most convenient flight has been identified, proceed to booking. Double-check the flight details before finalizing the booking.\nMonitor Flight Details:\n\nAfter booking, keep an eye on flight status, gate information, and any potential changes to the flight schedule.'\nReturned score: 82.7\nInternal rationale: The plan is solid, however the plan goes to extreme lengths to make things cheap, sacrificing time and simplicity. The task just asks for a vague definition of booking a flight. There are some redundant steps.\n\nEXAMPLE 2\nPlan: 'Determine the Travel Dates and Flexibility: Decide on the dates you want to travel to San Francisco and check if you have any flexibility in your travel schedule. Being flexible with your travel dates can often lead to finding cheaper flights.\n\nUse Flight Search Engines: Start by using popular flight search engines like Google Flights, Skyscanner, Kayak, or Expedia. These platforms allow you to compare prices from various airlines and find the most affordable options.\n\nSet Up Fare Alerts: If your travel dates are flexible, consider setting up fare alerts on the flight search engines. These alerts will notify you when the prices drop for the specified route.\n\nCheck Nearby Airports: In both Toronto and San Francisco, there might be multiple airports. Check flights departing from nearby airports as they may offer better deals.\n\nConsider Layovers: Non-stop flights are usually more convenient but can be more expensive. Look for flights with one or more layovers as they may offer cost savings.\n\nCheck Airlines' Official Websites: Once you find a potentially cheap flight on
